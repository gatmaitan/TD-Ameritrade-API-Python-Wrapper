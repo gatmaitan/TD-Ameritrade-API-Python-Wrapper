{
  "nbformat": 4,
  "nbformat_minor": 0,
  "metadata": {
    "colab": {
      "provenance": [],
      "toc_visible": true,
      "authorship_tag": "ABX9TyNpwl+lv9k91FqQotIauUMf",
      "include_colab_link": true
    },
    "kernelspec": {
      "name": "python3",
      "display_name": "Python 3"
    },
    "language_info": {
      "name": "python"
    }
  },
  "cells": [
    {
      "cell_type": "markdown",
      "metadata": {
        "id": "view-in-github",
        "colab_type": "text"
      },
      "source": [
        "<a href=\"https://colab.research.google.com/github/gatmaitan/TD-Ameritrade-API-Python-Wrapper/blob/main/Strat_Mean_Reversion_V3.ipynb\" target=\"_parent\"><img src=\"https://colab.research.google.com/assets/colab-badge.svg\" alt=\"Open In Colab\"/></a>"
      ]
    },
    {
      "cell_type": "markdown",
      "source": [
        "link : [link text](https://tradewithpython.com/generating-buy-sell-signals-using-python)"
      ],
      "metadata": {
        "id": "4SHiqUlLa1jm"
      }
    },
    {
      "cell_type": "code",
      "source": [
        "pip install pandas_ta"
      ],
      "metadata": {
        "colab": {
          "base_uri": "https://localhost:8080/"
        },
        "id": "wYGDL3SQv91a",
        "outputId": "38664a31-8370-4331-c83a-61d27a219013"
      },
      "execution_count": 102,
      "outputs": [
        {
          "output_type": "stream",
          "name": "stdout",
          "text": [
            "Looking in indexes: https://pypi.org/simple, https://us-python.pkg.dev/colab-wheels/public/simple/\n",
            "Requirement already satisfied: pandas_ta in /usr/local/lib/python3.8/dist-packages (0.3.14b0)\n",
            "Requirement already satisfied: pandas in /usr/local/lib/python3.8/dist-packages (from pandas_ta) (1.3.5)\n",
            "Requirement already satisfied: numpy>=1.17.3 in /usr/local/lib/python3.8/dist-packages (from pandas->pandas_ta) (1.21.6)\n",
            "Requirement already satisfied: pytz>=2017.3 in /usr/local/lib/python3.8/dist-packages (from pandas->pandas_ta) (2022.7)\n",
            "Requirement already satisfied: python-dateutil>=2.7.3 in /usr/local/lib/python3.8/dist-packages (from pandas->pandas_ta) (2.8.2)\n",
            "Requirement already satisfied: six>=1.5 in /usr/local/lib/python3.8/dist-packages (from python-dateutil>=2.7.3->pandas->pandas_ta) (1.15.0)\n"
          ]
        }
      ]
    },
    {
      "cell_type": "code",
      "source": [
        "import pandas as pd\n",
        "import pandas_ta as ta\n",
        "from datetime import date"
      ],
      "metadata": {
        "id": "Ql_1aKZDQSOU"
      },
      "execution_count": 103,
      "outputs": []
    },
    {
      "cell_type": "code",
      "source": [
        "#get data\n",
        "#key = DN2DFKCJ6ZLV472M\n",
        "url = 'https://www.alphavantage.co/query?function=TIME_SERIES_DAILY_ADJUSTED&symbol=aapl&apikey=DN2DFKCJ6ZLV472M&datatype=csv'"
      ],
      "metadata": {
        "id": "Pt3WiV6TQhp8"
      },
      "execution_count": 104,
      "outputs": []
    },
    {
      "cell_type": "code",
      "source": [
        "data = pd.read_csv(url)\n",
        "print(df)"
      ],
      "metadata": {
        "id": "9TGA1AuDQx1O",
        "colab": {
          "base_uri": "https://localhost:8080/"
        },
        "outputId": "765d67cd-808f-4704-f36f-eb9b230429ae"
      },
      "execution_count": 105,
      "outputs": [
        {
          "output_type": "stream",
          "name": "stdout",
          "text": [
            "     timestamp     open     high      low   close  adjusted_close    volume  \\\n",
            "0   2023-01-20  135.280  138.020  134.220  137.87      137.870000  80223626   \n",
            "1   2023-01-19  134.080  136.250  133.770  135.27      135.270000  58280413   \n",
            "2   2023-01-18  136.815  138.610  135.030  135.21      135.210000  69672800   \n",
            "3   2023-01-17  134.830  137.290  134.130  135.94      135.940000  63646627   \n",
            "4   2023-01-13  132.030  134.920  131.660  134.76      134.760000  57809719   \n",
            "..         ...      ...      ...      ...     ...             ...       ...   \n",
            "95  2022-09-02  159.750  160.362  154.965  155.81      155.355057  76957768   \n",
            "96  2022-09-01  156.640  158.420  154.670  157.96      157.498779  74229896   \n",
            "97  2022-08-31  160.305  160.580  157.140  157.22      156.760940  87991091   \n",
            "98  2022-08-30  162.130  162.560  157.720  158.91      158.446005  77906197   \n",
            "99  2022-08-29  161.145  162.900  159.820  161.38      160.908793  72724452   \n",
            "\n",
            "    dividend_amount  split_coefficient  \n",
            "0               0.0                1.0  \n",
            "1               0.0                1.0  \n",
            "2               0.0                1.0  \n",
            "3               0.0                1.0  \n",
            "4               0.0                1.0  \n",
            "..              ...                ...  \n",
            "95              0.0                1.0  \n",
            "96              0.0                1.0  \n",
            "97              0.0                1.0  \n",
            "98              0.0                1.0  \n",
            "99              0.0                1.0  \n",
            "\n",
            "[100 rows x 9 columns]\n"
          ]
        }
      ]
    },
    {
      "cell_type": "markdown",
      "source": [
        "# Simple Moving Averages"
      ],
      "metadata": {
        "id": "WLMhYj8A4Df0"
      }
    },
    {
      "cell_type": "markdown",
      "source": [
        "This code is calculating simple moving averages (SMA) for two different periods (30 and 100 days) for the closing prices of a financial instrument, and then using those SMAs to generate buy and sell signals.\n",
        "\n",
        "The first two lines of code calculate the 30-day and 100-day SMAs for the \"close\" column in the data and store them as new columns in the dataframe named \"SMA 30\" and \"SMA 100\" respectively.\n",
        "\n",
        "The function \"buy_sell\" then takes the dataframe as an input and initializes empty lists \"signalBuy\" and \"signalSell\" to store the buy and sell signals respectively, and a boolean variable \"position\" to keep track of the current position (long or short).\n",
        "\n",
        "The function then iterates over each element of the dataframe, and checks whether the 30-day SMA is greater than the 100-day SMA. If it is, and the current position is short, it generates a buy signal by appending the adjusted closing price to the \"signalBuy\" list and appending NaN to the \"signalSell\" list. It also changes the position to long. If the current position is already long, it does not generate any signal.\n",
        "\n",
        "If the 30-day SMA is less than the 100-day SMA, it generates a sell signal and changes the position to short if the current position is long. If the current position is already short, it does not generate any signal.\n",
        "\n",
        "If the 30-day SMA is equal to the 100-day SMA, it does not generate any signal.\n",
        "\n",
        "Finally, it returns a pandas series containing the \"signalBuy\" and \"signalSell\" lists."
      ],
      "metadata": {
        "id": "PyK7m5qG3C66"
      }
    },
    {
      "cell_type": "code",
      "source": [
        "data['SMA 30'] = ta.sma(data['close'],30)\n",
        "data['SMA 100'] = ta.sma(data['close'],100)\n",
        "#SMA BUY SELL\n",
        "#Function for buy and sell signal\n",
        "def buy_sell(data):\n",
        "    signalBuy = []\n",
        "    signalSell = []\n",
        "    position = False \n",
        "\n",
        "    for i in range(len(data)):\n",
        "        if data['SMA 30'][i] > data['SMA 100'][i]:\n",
        "            if position == False :\n",
        "                signalBuy.append(data['adjusted_close'][i])\n",
        "                signalSell.append(np.nan)\n",
        "                position = True\n",
        "            else:\n",
        "                signalBuy.append(np.nan)\n",
        "                signalSell.append(np.nan)\n",
        "        elif data['SMA 30'][i] < data['SMA 100'][i]:\n",
        "            if position == True:\n",
        "                signalBuy.append(np.nan)\n",
        "                signalSell.append(data['adjusted_close'][i])\n",
        "                position = False\n",
        "            else:\n",
        "                signalBuy.append(np.nan)\n",
        "                signalSell.append(np.nan)\n",
        "        else:\n",
        "            signalBuy.append(np.nan)\n",
        "            signalSell.append(np.nan)\n",
        "    return pd.Series([signalBuy, signalSell])\n"
      ],
      "metadata": {
        "id": "zMQkGHkbR_D2"
      },
      "execution_count": 106,
      "outputs": []
    },
    {
      "cell_type": "markdown",
      "source": [
        "# MACD\n"
      ],
      "metadata": {
        "id": "KPbnYUU14K7n"
      }
    },
    {
      "cell_type": "markdown",
      "source": [
        "This code is implementing a trading strategy that uses the moving average convergence divergence (MACD) indicator to generate buy and sell signals. The MACD is a momentum and trend-following indicator that uses the difference between two exponential moving averages to identify changes in direction and momentum.\n",
        "\n",
        "The function \"MACD_Strategy\" takes a dataframe \"df\" and a risk variable as inputs. It initializes empty lists \"MACD_Buy\" and \"MACD_Sell\" to store the buy and sell signals respectively, and a boolean variable \"position\" to keep track of the current position (long or short).\n",
        "\n",
        "The function then iterates over each element of the dataframe, and checks whether the MACD line is greater than the signal line. If it is, it generates a buy signal and changes the position to long if the current position is short. If the current position is already long, it does not generate any signal.\n",
        "\n",
        "If the MACD line is less than the signal line, it generates a sell signal and changes the position to short if the current position is long. If the current position is already short, it does not generate any signal.\n",
        "\n",
        "It also checks for the stop-loss condition, if the position is long and the current adjusted close is less than the previous adjusted close * (1-risk) then it generates a sell signal, changes the position to short.\n",
        "\n",
        "Finally, it adds the \"MACD_Buy\" and \"MACD_Sell\" lists as new columns in the dataframe, named \"MACD_Buy_Signal_price\" and \"MACD_Sell_Signal_price\" respectively."
      ],
      "metadata": {
        "id": "NCcGfVpR4VgR"
      }
    },
    {
      "cell_type": "code",
      "source": [
        "macd = ta.macd(data['close'])"
      ],
      "metadata": {
        "id": "b5w0D5F2SWsD"
      },
      "execution_count": 107,
      "outputs": []
    },
    {
      "cell_type": "code",
      "source": [
        "def MACD_Strategy(df, risk):\n",
        "    MACD_Buy=[]\n",
        "    MACD_Sell=[]\n",
        "    position=False\n",
        "\n",
        "    for i in range(0, len(df)):\n",
        "        if df['MACD_12_26_9'][i] > df['MACDs_12_26_9'][i] :\n",
        "            MACD_Sell.append(np.nan)\n",
        "            if position ==False:\n",
        "                MACD_Buy.append(df['Adj Close'][i])\n",
        "                position=True\n",
        "            else:\n",
        "                MACD_Buy.append(np.nan)\n",
        "        elif df['MACD_12_26_9'][i] < df['MACDs_12_26_9'][i] :\n",
        "            MACD_Buy.append(np.nan)\n",
        "            if position == True:\n",
        "                MACD_Sell.append(df['Adj Close'][i])\n",
        "                position=False\n",
        "            else:\n",
        "                MACD_Sell.append(np.nan)\n",
        "        elif position == True and df['Adj Close'][i] < MACD_Buy[-1] * (1 - risk):\n",
        "            MACD_Sell.append(df[\"Adj Close\"][i])\n",
        "            MACD_Buy.append(np.nan)\n",
        "            position = False\n",
        "        elif position == True and df['Adj Close'][i] < df['Adj Close'][i - 1] * (1 - risk):\n",
        "            MACD_Sell.append(df[\"Adj Close\"][i])\n",
        "            MACD_Buy.append(np.nan)\n",
        "            position = False\n",
        "        else:\n",
        "            MACD_Buy.append(np.nan)\n",
        "            MACD_Sell.append(np.nan)\n",
        "\n",
        "    data['MACD_Buy_Signal_price'] = MACD_Buy\n",
        "    data['MACD_Sell_Signal_price'] = MACD_Sell\n"
      ],
      "metadata": {
        "id": "3SBIvRb0W2EE"
      },
      "execution_count": 108,
      "outputs": []
    },
    {
      "cell_type": "code",
      "source": [
        "data = pd.concat([data, macd], axis=1).reindex(data.index)"
      ],
      "metadata": {
        "id": "OgeIWV95ScCW"
      },
      "execution_count": 109,
      "outputs": []
    },
    {
      "cell_type": "markdown",
      "source": [
        "# Bollinger Bands"
      ],
      "metadata": {
        "id": "il4GKgUB4nBt"
      }
    },
    {
      "cell_type": "markdown",
      "source": [
        "This code defines a function called \"bb_strategy\" that takes in a dataframe called \"data\" as an input. Within the function, two lists called \"bbBuy\" and \"bbSell\" are created, as well as a variable \"position\" that is initialized as \"False\".\n",
        "\n",
        "The function uses the \"ta\" library to calculate the Bollinger Bands for the \"Adj Close\" column of the dataframe, with a length of 20 and a standard deviation of 2. It then concatenates the resulting Bollinger Bands data with the original dataframe and reindexes it to match the original dataframe's index.\n",
        "\n",
        "The function then uses a for loop to iterate through the rows of the dataframe. For each iteration, it checks whether the value of \"Adj Close\" for that row is less than the value of the lower Bollinger Band \"BBL_20_2.0\" for that row. If it is, and the position variable is \"False\", it appends the value of \"Adj Close\" for that row to the \"bbBuy\" list, and appends a \"NaN\" value to the \"bbSell\" list. It also sets the position variable to \"True\". If the position variable is already \"True\", it appends \"NaN\" values to both lists.\n",
        "\n",
        "If the value of \"Adj Close\" is greater than the value of the upper Bollinger Band \"BBU_20_2.0\" for that row, it checks if the position variable is \"True\". If it is, it appends a \"NaN\" value to the \"bbBuy\" list, and the value of \"Adj Close\" for that row to the \"bbSell\" list, and sets the position variable to \"False\". If the position variable is already \"False\", it appends \"NaN\" values to both lists.\n",
        "\n",
        "If the value of \"Adj Close\" is between the value of the lower Bollinger Band and upper Bollinger Band for that row, it appends \"NaN\" values to both lists.\n",
        "\n",
        "Finally, the function creates two new columns in the dataframe named \"bb_Buy_Signal_price\" and \"bb_Sell_Signal_price\" and assigns the \"bbBuy\" and \"bbSell\" lists to them respectively.\n",
        "\n",
        "The function then returns the modified dataframe.\n",
        "\n",
        "This function is similar to the one before, but instead of using moving average indicators, it uses Bollinger Bands indicators to buy or sell. When the close price of a stock falls below the lower Bollinger Band it is considered as a buy signal, whereas if it moves above the upper Bollinger Band it is considered as a sell signal."
      ],
      "metadata": {
        "id": "7DkySiC81ao9"
      }
    },
    {
      "cell_type": "code",
      "source": [
        "def bb_strategy(data):\n",
        "    bbBuy = []\n",
        "    bbSell = []\n",
        "    position = False\n",
        "    bb = ta.bbands(data['adjusted_close'], length=20,std=2)\n",
        "    data = pd.concat([data, bb], axis=1).reindex(data.index)\n",
        "\n",
        "    for i in range(len(data)):\n",
        "        if data['adjusted_close'][i] < data['BBL_20_2.0'][i]:\n",
        "            if position == False :\n",
        "                bbBuy.append(data['adjusted_close'][i])\n",
        "                bbSell.append(np.nan)\n",
        "                position = True\n",
        "            else:\n",
        "                bbBuy.append(np.nan)\n",
        "                bbSell.append(np.nan)\n",
        "        elif data['adjusted_close'][i] > data['BBU_20_2.0'][i]:\n",
        "            if position == True:\n",
        "                bbBuy.append(np.nan)\n",
        "                bbSell.append(data['adjusted_close'][i])\n",
        "                position = False \n",
        "            else:\n",
        "                bbBuy.append(np.nan)\n",
        "                bbSell.append(np.nan)\n",
        "        else :\n",
        "            bbBuy.append(np.nan)\n",
        "            bbSell.append(np.nan)\n",
        "\n",
        "    data['bb_Buy_Signal_price'] = bbBuy\n",
        "    data['bb_Sell_Signal_price'] = bbSell\n",
        "\n",
        "    return data\n"
      ],
      "metadata": {
        "id": "hRxTYkeESiTl"
      },
      "execution_count": 110,
      "outputs": []
    },
    {
      "cell_type": "code",
      "source": [
        "#storing the function\n",
        "data = bb_strategy(data)\n",
        "print(data)"
      ],
      "metadata": {
        "id": "HRppC342SllO",
        "colab": {
          "base_uri": "https://localhost:8080/"
        },
        "outputId": "5d2b902d-1b01-457c-b7f8-1102c419dbb5"
      },
      "execution_count": 111,
      "outputs": [
        {
          "output_type": "stream",
          "name": "stdout",
          "text": [
            "     timestamp     open     high      low   close  adjusted_close    volume  \\\n",
            "0   2023-01-20  135.280  138.020  134.220  137.87      137.870000  80223626   \n",
            "1   2023-01-19  134.080  136.250  133.770  135.27      135.270000  58280413   \n",
            "2   2023-01-18  136.815  138.610  135.030  135.21      135.210000  69672800   \n",
            "3   2023-01-17  134.830  137.290  134.130  135.94      135.940000  63646627   \n",
            "4   2023-01-13  132.030  134.920  131.660  134.76      134.760000  57809719   \n",
            "..         ...      ...      ...      ...     ...             ...       ...   \n",
            "95  2022-09-02  159.750  160.362  154.965  155.81      155.355057  76957768   \n",
            "96  2022-09-01  156.640  158.420  154.670  157.96      157.498779  74229896   \n",
            "97  2022-08-31  160.305  160.580  157.140  157.22      156.760940  87991091   \n",
            "98  2022-08-30  162.130  162.560  157.720  158.91      158.446005  77906197   \n",
            "99  2022-08-29  161.145  162.900  159.820  161.38      160.908793  72724452   \n",
            "\n",
            "    dividend_amount  split_coefficient      SMA 30  ...  MACD_12_26_9  \\\n",
            "0               0.0                1.0         NaN  ...           NaN   \n",
            "1               0.0                1.0         NaN  ...           NaN   \n",
            "2               0.0                1.0         NaN  ...           NaN   \n",
            "3               0.0                1.0         NaN  ...           NaN   \n",
            "4               0.0                1.0         NaN  ...           NaN   \n",
            "..              ...                ...         ...  ...           ...   \n",
            "95              0.0                1.0  149.156000  ...      2.766258   \n",
            "96              0.0                1.0  149.808667  ...      2.820239   \n",
            "97              0.0                1.0  150.283000  ...      2.771362   \n",
            "98              0.0                1.0  150.968667  ...      2.836300   \n",
            "99              0.0                1.0  151.715333  ...      3.051892   \n",
            "\n",
            "    MACDh_12_26_9  MACDs_12_26_9  BBL_20_2.0  BBM_20_2.0  BBU_20_2.0  \\\n",
            "0             NaN            NaN         NaN         NaN         NaN   \n",
            "1             NaN            NaN         NaN         NaN         NaN   \n",
            "2             NaN            NaN         NaN         NaN         NaN   \n",
            "3             NaN            NaN         NaN         NaN         NaN   \n",
            "4             NaN            NaN         NaN         NaN         NaN   \n",
            "..            ...            ...         ...         ...         ...   \n",
            "95      -0.038862       2.805120  142.040137  152.308977  162.577817   \n",
            "96       0.012095       2.808144  145.242288  153.294092  161.345896   \n",
            "97      -0.029426       2.800787  147.716076  154.028940  160.341804   \n",
            "98       0.028410       2.807890  148.263747  154.481116  160.698485   \n",
            "99       0.195201       2.856690  148.327751  154.960711  161.593672   \n",
            "\n",
            "    BBB_20_2.0  BBP_20_2.0  bb_Buy_Signal_price  bb_Sell_Signal_price  \n",
            "0          NaN         NaN                  NaN                   NaN  \n",
            "1          NaN         NaN                  NaN                   NaN  \n",
            "2          NaN         NaN                  NaN                   NaN  \n",
            "3          NaN         NaN                  NaN                   NaN  \n",
            "4          NaN         NaN                  NaN                   NaN  \n",
            "..         ...         ...                  ...                   ...  \n",
            "95   13.484222    0.648317                  NaN                   NaN  \n",
            "96   10.505041    0.761102                  NaN                   NaN  \n",
            "97    8.196984    0.716384                  NaN                   NaN  \n",
            "98    8.049358    0.818856                  NaN                   NaN  \n",
            "99    8.560829    0.948373                  NaN                   NaN  \n",
            "\n",
            "[100 rows x 21 columns]\n"
          ]
        }
      ]
    },
    {
      "cell_type": "code",
      "source": [
        "#print(data['bb_Buy_Signal_price'].dropna())\n",
        "print(data['bb_Buy_Signal_price'])"
      ],
      "metadata": {
        "colab": {
          "base_uri": "https://localhost:8080/"
        },
        "id": "sDBFYJtUw05-",
        "outputId": "d9e6971d-99bd-4d7a-8350-ed1050af647a"
      },
      "execution_count": 112,
      "outputs": [
        {
          "output_type": "stream",
          "name": "stdout",
          "text": [
            "0    NaN\n",
            "1    NaN\n",
            "2    NaN\n",
            "3    NaN\n",
            "4    NaN\n",
            "      ..\n",
            "95   NaN\n",
            "96   NaN\n",
            "97   NaN\n",
            "98   NaN\n",
            "99   NaN\n",
            "Name: bb_Buy_Signal_price, Length: 100, dtype: float64\n"
          ]
        }
      ]
    },
    {
      "cell_type": "markdown",
      "source": [
        "# RSI"
      ],
      "metadata": {
        "id": "1PQ6sqWr4wry"
      }
    },
    {
      "cell_type": "code",
      "source": [
        "# calculate RSI\n",
        "RSI = ta.rsi(data['adjusted_close'], length = 14)"
      ],
      "metadata": {
        "id": "znnBvqc0XiO0"
      },
      "execution_count": 113,
      "outputs": []
    },
    {
      "cell_type": "markdown",
      "source": [
        "# ADX"
      ],
      "metadata": {
        "id": "zoV2w4xJ412V"
      }
    },
    {
      "cell_type": "code",
      "source": [
        "getADX = ta.adx(data['high'],data['low'],data['adjusted_close'])\n",
        "print(getADX)"
      ],
      "metadata": {
        "colab": {
          "base_uri": "https://localhost:8080/"
        },
        "id": "ljoVPNcEz9uF",
        "outputId": "480bec09-d6b7-460d-aa06-da79fa78a7ad"
      },
      "execution_count": 114,
      "outputs": [
        {
          "output_type": "stream",
          "name": "stdout",
          "text": [
            "       ADX_14     DMP_14     DMN_14\n",
            "0         NaN        NaN        NaN\n",
            "1         NaN        NaN        NaN\n",
            "2         NaN        NaN        NaN\n",
            "3         NaN        NaN        NaN\n",
            "4         NaN        NaN        NaN\n",
            "..        ...        ...        ...\n",
            "95  18.989451  26.236896  15.571675\n",
            "96  19.371890  24.979633  15.202454\n",
            "97  20.099924  26.688692  14.515304\n",
            "98  21.096759  27.254026  13.414531\n",
            "99  22.077066  26.095955  12.622756\n",
            "\n",
            "[100 rows x 3 columns]\n"
          ]
        }
      ]
    }
  ]
}